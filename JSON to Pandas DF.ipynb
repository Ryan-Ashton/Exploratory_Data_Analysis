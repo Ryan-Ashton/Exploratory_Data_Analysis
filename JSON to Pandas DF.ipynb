{
 "cells": [
  {
   "cell_type": "code",
   "execution_count": 1,
   "metadata": {},
   "outputs": [],
   "source": [
    "# to handle  data retrieval\n",
    "import urllib3\n",
    "from urllib3 import request\n",
    "# to handle certificate verification\n",
    "import certifi\n",
    "# to manage json data\n",
    "import json\n",
    "# for pandas dataframes\n",
    "import pandas as pd\n",
    "# uncomment below if installation needed (not necessary in Colab)\n",
    "#!pip install certifi"
   ]
  },
  {
   "cell_type": "code",
   "execution_count": 2,
   "metadata": {},
   "outputs": [],
   "source": [
    "# handle certificate verification and SSL warnings\n",
    "# https://urllib3.readthedocs.io/en/latest/user-guide.html#ssl\n",
    "http = urllib3.PoolManager(\n",
    "       cert_reqs='CERT_REQUIRED',\n",
    "       ca_certs=certifi.where())"
   ]
  },
  {
   "cell_type": "code",
   "execution_count": 3,
   "metadata": {},
   "outputs": [
    {
     "data": {
      "text/plain": [
       "200"
      ]
     },
     "execution_count": 3,
     "metadata": {},
     "output_type": "execute_result"
    }
   ],
   "source": [
    "# get data from the API\n",
    "# http://stat.data.abs.gov.au/sdmx-json/\n",
    "url = 'http://stat.data.abs.gov.au/sdmx-json/data/ABS_CENSUS2011_B06/1.A20.1+2+3.0+1+2+3+4+5+6+7+8+9.AUS.0.A/all?detail=Full&dimensionAtObservation=AllDimensions'\n",
    "r = http.request('GET', url)\n",
    "r.status"
   ]
  },
  {
   "cell_type": "code",
   "execution_count": 4,
   "metadata": {},
   "outputs": [
    {
     "data": {
      "text/plain": [
       "{'header': {'id': '54887358-e9c6-4ae3-a2ef-5c9982a7ebdc',\n",
       "  'test': False,\n",
       "  'prepared': '2020-10-26T05:15:40.8990545Z',\n",
       "  'sender': {'id': 'ABS', 'name': 'Australian Bureau of Statistics'},\n",
       "  'links': [{'href': 'http://stat.data.abs.gov.au:80/sdmx-json/data/ABS_CENSUS2011_B06/1.A20.1+2+3.0+1+2+3+4+5+6+7+8+9.AUS.0.A/all?detail=Full&dimensionAtObservation=AllDimensions',\n",
       "    'rel': 'request'}]},\n",
       " 'dataSets': [{'action': 'Information',\n",
       "   'observations': {'0:0:0:0:0:0:0:0': [22667.0, 0, None],\n",
       "    '0:0:1:0:0:0:0:0': [71141.0, 0, None],\n",
       "    '0:0:2:0:0:0:0:0': [539267.0, 0, None]}}],\n",
       " 'structure': {'links': [{'href': 'http://stat.data.abs.gov.au/sdmx-json/dataflow/ABS_CENSUS2011_B06/all',\n",
       "    'rel': 'dataflow'}],\n",
       "  'name': 'B06 Social Marital Status by Age by Sex',\n",
       "  'description': 'B06 Social Marital Status by Age by Sex',\n",
       "  'dimensions': {'observation': [{'keyPosition': 0,\n",
       "     'id': 'MEASURE',\n",
       "     'name': 'Sex',\n",
       "     'values': [{'id': '1', 'name': 'Males'}]},\n",
       "    {'keyPosition': 1,\n",
       "     'id': 'AGE',\n",
       "     'name': 'Age',\n",
       "     'values': [{'id': 'A20', 'name': '20 - 24'}]},\n",
       "    {'keyPosition': 2,\n",
       "     'id': 'MDCP',\n",
       "     'name': 'Social Marital Status',\n",
       "     'values': [{'id': '1', 'name': 'Married in a registered marriage'},\n",
       "      {'id': '2', 'name': 'Married in a de facto marriage(b)'},\n",
       "      {'id': '3', 'name': 'Not married'}]},\n",
       "    {'keyPosition': 3,\n",
       "     'id': 'STATE',\n",
       "     'name': 'State',\n",
       "     'values': [{'id': '0', 'name': 'Australia'}]},\n",
       "    {'keyPosition': 4,\n",
       "     'id': 'REGIONTYPE',\n",
       "     'name': 'Region Type',\n",
       "     'values': [{'id': 'AUS', 'name': 'Australia'}]},\n",
       "    {'keyPosition': 5,\n",
       "     'id': 'REGION',\n",
       "     'name': 'Region',\n",
       "     'values': [{'id': '0', 'name': 'Australia'}]},\n",
       "    {'keyPosition': 6,\n",
       "     'id': 'FREQUENCY',\n",
       "     'name': 'Frequency',\n",
       "     'values': [{'id': 'A', 'name': 'Annual'}],\n",
       "     'role': 'FREQ'},\n",
       "    {'id': 'TIME_PERIOD',\n",
       "     'name': 'Time',\n",
       "     'values': [{'id': '2011', 'name': '2011'}],\n",
       "     'role': 'TIME_PERIOD'}]},\n",
       "  'attributes': {'dataSet': [],\n",
       "   'series': [],\n",
       "   'observation': [{'id': 'TIME_FORMAT',\n",
       "     'name': 'Time Format',\n",
       "     'values': [{'id': 'P1Y', 'name': 'Annual'}]},\n",
       "    {'id': 'OBS_STATUS', 'name': 'Observation Status', 'values': []}]},\n",
       "  'annotations': [{'title': 'Statistical usage warning',\n",
       "    'uri': '',\n",
       "    'text': 'ABS.Stat beta is continuing to be developed.  Data will be updated as soon as possible following its 11:30 am release on the ABS website.'}]}}"
      ]
     },
     "execution_count": 4,
     "metadata": {},
     "output_type": "execute_result"
    }
   ],
   "source": [
    "# decode json data into a dict object\n",
    "data = json.loads(r.data.decode('utf-8'))\n",
    "data"
   ]
  },
  {
   "cell_type": "code",
   "execution_count": 5,
   "metadata": {},
   "outputs": [
    {
     "name": "stdout",
     "output_type": "stream",
     "text": [
      "MEASURE\n",
      "AGE\n",
      "MDCP\n",
      "STATE\n",
      "REGIONTYPE\n",
      "REGION\n",
      "FREQUENCY\n",
      "TIME_PERIOD\n"
     ]
    }
   ],
   "source": [
    "for i in data['structure']['dimensions']['observation']:\n",
    "    print(i[\"id\"])\n"
   ]
  },
  {
   "cell_type": "code",
   "execution_count": 6,
   "metadata": {},
   "outputs": [
    {
     "data": {
      "text/html": [
       "<div>\n",
       "<style scoped>\n",
       "    .dataframe tbody tr th:only-of-type {\n",
       "        vertical-align: middle;\n",
       "    }\n",
       "\n",
       "    .dataframe tbody tr th {\n",
       "        vertical-align: top;\n",
       "    }\n",
       "\n",
       "    .dataframe thead th {\n",
       "        text-align: right;\n",
       "    }\n",
       "</style>\n",
       "<table border=\"1\" class=\"dataframe\">\n",
       "  <thead>\n",
       "    <tr style=\"text-align: right;\">\n",
       "      <th></th>\n",
       "      <th>action</th>\n",
       "      <th>observations.0:0:0:0:0:0:0:0</th>\n",
       "      <th>observations.0:0:1:0:0:0:0:0</th>\n",
       "      <th>observations.0:0:2:0:0:0:0:0</th>\n",
       "    </tr>\n",
       "  </thead>\n",
       "  <tbody>\n",
       "    <tr>\n",
       "      <th>0</th>\n",
       "      <td>Information</td>\n",
       "      <td>[22667.0, 0, None]</td>\n",
       "      <td>[71141.0, 0, None]</td>\n",
       "      <td>[539267.0, 0, None]</td>\n",
       "    </tr>\n",
       "  </tbody>\n",
       "</table>\n",
       "</div>"
      ],
      "text/plain": [
       "        action observations.0:0:0:0:0:0:0:0 observations.0:0:1:0:0:0:0:0  \\\n",
       "0  Information           [22667.0, 0, None]           [71141.0, 0, None]   \n",
       "\n",
       "  observations.0:0:2:0:0:0:0:0  \n",
       "0          [539267.0, 0, None]  "
      ]
     },
     "execution_count": 6,
     "metadata": {},
     "output_type": "execute_result"
    }
   ],
   "source": [
    "# in this dataset, the data to extract is under 'features'\n",
    "df = pd.json_normalize(data, ['dataSets'])\n",
    "df.head(10)"
   ]
  },
  {
   "cell_type": "code",
   "execution_count": null,
   "metadata": {},
   "outputs": [],
   "source": []
  }
 ],
 "metadata": {
  "kernelspec": {
   "display_name": "Python 3",
   "language": "python",
   "name": "python3"
  },
  "language_info": {
   "codemirror_mode": {
    "name": "ipython",
    "version": 3
   },
   "file_extension": ".py",
   "mimetype": "text/x-python",
   "name": "python",
   "nbconvert_exporter": "python",
   "pygments_lexer": "ipython3",
   "version": "3.8.3"
  }
 },
 "nbformat": 4,
 "nbformat_minor": 4
}
