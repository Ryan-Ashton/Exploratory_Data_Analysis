{
 "cells": [
  {
   "cell_type": "code",
   "execution_count": 1,
   "metadata": {},
   "outputs": [
    {
     "data": {
      "text/plain": [
       "46"
      ]
     },
     "execution_count": 1,
     "metadata": {},
     "output_type": "execute_result"
    }
   ],
   "source": [
    "text = \"The dog jumped over and over the 2 brown Foxes\"\n",
    "len(text)"
   ]
  },
  {
   "cell_type": "code",
   "execution_count": 2,
   "metadata": {},
   "outputs": [
    {
     "data": {
      "text/plain": [
       "10"
      ]
     },
     "execution_count": 2,
     "metadata": {},
     "output_type": "execute_result"
    }
   ],
   "source": [
    "text_split = text.split(\" \")\n",
    "len(text_split)"
   ]
  },
  {
   "cell_type": "code",
   "execution_count": 3,
   "metadata": {},
   "outputs": [
    {
     "data": {
      "text/plain": [
       "['The', 'dog', 'jumped', 'over', 'and', 'over', 'the', '2', 'brown', 'Foxes']"
      ]
     },
     "execution_count": 3,
     "metadata": {},
     "output_type": "execute_result"
    }
   ],
   "source": [
    "text_split"
   ]
  },
  {
   "cell_type": "code",
   "execution_count": 4,
   "metadata": {},
   "outputs": [
    {
     "data": {
      "text/plain": [
       "['jumped', 'over', 'over', 'brown', 'Foxes']"
      ]
     },
     "execution_count": 4,
     "metadata": {},
     "output_type": "execute_result"
    }
   ],
   "source": [
    "[w for w in text_split if len(w) >3 ]"
   ]
  },
  {
   "cell_type": "code",
   "execution_count": 5,
   "metadata": {},
   "outputs": [
    {
     "data": {
      "text/plain": [
       "['The', 'Foxes']"
      ]
     },
     "execution_count": 5,
     "metadata": {},
     "output_type": "execute_result"
    }
   ],
   "source": [
    "# Find the title or start of the sentence\n",
    "\n",
    "[w for w in text_split if w.istitle()]"
   ]
  },
  {
   "cell_type": "code",
   "execution_count": 6,
   "metadata": {},
   "outputs": [
    {
     "data": {
      "text/plain": [
       "[]"
      ]
     },
     "execution_count": 6,
     "metadata": {},
     "output_type": "execute_result"
    }
   ],
   "source": [
    "# Find Capitalised Words\n",
    "\n",
    "[w for w in text_split if w.isupper()]"
   ]
  },
  {
   "cell_type": "code",
   "execution_count": 7,
   "metadata": {},
   "outputs": [
    {
     "data": {
      "text/plain": [
       "['dog', 'jumped', 'over', 'and', 'over', 'the', 'brown']"
      ]
     },
     "execution_count": 7,
     "metadata": {},
     "output_type": "execute_result"
    }
   ],
   "source": [
    "# Words that are not capitalised\n",
    "\n",
    "[w for w in text_split if w.islower()]"
   ]
  },
  {
   "cell_type": "code",
   "execution_count": 8,
   "metadata": {},
   "outputs": [
    {
     "data": {
      "text/plain": [
       "[]"
      ]
     },
     "execution_count": 8,
     "metadata": {},
     "output_type": "execute_result"
    }
   ],
   "source": [
    "# Words that end with x\n",
    "\n",
    "[w for w in text_split if w.endswith(\"x\")]"
   ]
  },
  {
   "cell_type": "code",
   "execution_count": 9,
   "metadata": {},
   "outputs": [
    {
     "data": {
      "text/plain": [
       "['dog']"
      ]
     },
     "execution_count": 9,
     "metadata": {},
     "output_type": "execute_result"
    }
   ],
   "source": [
    "# Words that start with d\n",
    "\n",
    "[w for w in text_split if w.startswith(\"d\")]"
   ]
  },
  {
   "cell_type": "code",
   "execution_count": 10,
   "metadata": {},
   "outputs": [
    {
     "data": {
      "text/plain": [
       "9"
      ]
     },
     "execution_count": 10,
     "metadata": {},
     "output_type": "execute_result"
    }
   ],
   "source": [
    "# Find unique words in this list\n",
    "\n",
    "len(set(text_split))"
   ]
  },
  {
   "cell_type": "code",
   "execution_count": 11,
   "metadata": {},
   "outputs": [
    {
     "data": {
      "text/plain": [
       "{'2', 'Foxes', 'The', 'and', 'brown', 'dog', 'jumped', 'over', 'the'}"
      ]
     },
     "execution_count": 11,
     "metadata": {},
     "output_type": "execute_result"
    }
   ],
   "source": [
    "# Find unique with capital sensitive\n",
    "\n",
    "set(text_split)"
   ]
  },
  {
   "cell_type": "code",
   "execution_count": 12,
   "metadata": {},
   "outputs": [
    {
     "data": {
      "text/plain": [
       "{'2', 'and', 'brown', 'dog', 'foxes', 'jumped', 'over', 'the'}"
      ]
     },
     "execution_count": 12,
     "metadata": {},
     "output_type": "execute_result"
    }
   ],
   "source": [
    "# Use \"in\" to find the subset of a string - remove capital sensitivity\n",
    "\n",
    "set([w.lower() for w in text_split])"
   ]
  },
  {
   "cell_type": "code",
   "execution_count": 13,
   "metadata": {},
   "outputs": [
    {
     "data": {
      "text/plain": [
       "['The', 'dog', 'jumped', 'over', 'and', 'over', 'the', 'brown', 'Foxes']"
      ]
     },
     "execution_count": 13,
     "metadata": {},
     "output_type": "execute_result"
    }
   ],
   "source": [
    "# Words that are alphanumeric\n",
    "\n",
    "[w for w in text_split if w.isalpha()]"
   ]
  },
  {
   "cell_type": "code",
   "execution_count": 14,
   "metadata": {},
   "outputs": [
    {
     "data": {
      "text/plain": [
       "['2']"
      ]
     },
     "execution_count": 14,
     "metadata": {},
     "output_type": "execute_result"
    }
   ],
   "source": [
    "# Words that are numbers\n",
    "\n",
    "[w for w in text_split if w.isdigit()]"
   ]
  },
  {
   "cell_type": "code",
   "execution_count": 15,
   "metadata": {},
   "outputs": [
    {
     "data": {
      "text/plain": [
       "['The', 'dog', 'jumped', 'over', 'and', 'over', 'the', '2', 'brown', 'Foxes']"
      ]
     },
     "execution_count": 15,
     "metadata": {},
     "output_type": "execute_result"
    }
   ],
   "source": [
    "# Words that are numbers or alphanumeric\n",
    "\n",
    "[w for w in text_split if w.isalnum()]"
   ]
  },
  {
   "cell_type": "code",
   "execution_count": 16,
   "metadata": {},
   "outputs": [
    {
     "data": {
      "text/plain": [
       "['The dog jumped over and over the 2 brown Foxes']"
      ]
     },
     "execution_count": 16,
     "metadata": {},
     "output_type": "execute_result"
    }
   ],
   "source": [
    "# Split lines based on /n or a \"new line\"\n",
    "\n",
    "text_split_new_line = text.splitlines()\n",
    "text_split_new_line"
   ]
  },
  {
   "cell_type": "code",
   "execution_count": 17,
   "metadata": {},
   "outputs": [
    {
     "name": "stdout",
     "output_type": "stream",
     "text": [
      "1, 2, 3, 4\n"
     ]
    }
   ],
   "source": [
    "# The join() method returns a string created by joining the elements of an iterable by string separator.\n",
    "\n",
    "numList = ['1', '2', '3', '4']\n",
    "separator = ', '\n",
    "print(separator.join(numList))"
   ]
  },
  {
   "cell_type": "code",
   "execution_count": 18,
   "metadata": {},
   "outputs": [
    {
     "data": {
      "text/plain": [
       "5"
      ]
     },
     "execution_count": 18,
     "metadata": {},
     "output_type": "execute_result"
    }
   ],
   "source": [
    "# Find the position of the first \"a\"\n",
    "\n",
    "find_me = \"dklj a lkjjdklj a jd\"\n",
    "\n",
    "x = find_me.find(\"a\")\n",
    "x"
   ]
  },
  {
   "cell_type": "code",
   "execution_count": 19,
   "metadata": {},
   "outputs": [
    {
     "data": {
      "text/plain": [
       "16"
      ]
     },
     "execution_count": 19,
     "metadata": {},
     "output_type": "execute_result"
    }
   ],
   "source": [
    "# Find the position of the last \"a\"\n",
    "\n",
    "find_me = \"dklj a lkjjdklj a jd\"\n",
    "\n",
    "x = find_me.rfind(\"a\")\n",
    "x"
   ]
  },
  {
   "cell_type": "code",
   "execution_count": 20,
   "metadata": {},
   "outputs": [
    {
     "data": {
      "text/plain": [
       "'zflkjzlk'"
      ]
     },
     "execution_count": 20,
     "metadata": {},
     "output_type": "execute_result"
    }
   ],
   "source": [
    "# Replace string\n",
    "\n",
    "x = \"sflkjslk\"\n",
    "\n",
    "x = x.replace(\"s\",\"z\")\n",
    "\n",
    "x"
   ]
  },
  {
   "cell_type": "code",
   "execution_count": 21,
   "metadata": {},
   "outputs": [
    {
     "data": {
      "text/plain": [
       "'Fruits are the means by which angiosperms disseminate seeds.\\n'"
      ]
     },
     "execution_count": 21,
     "metadata": {},
     "output_type": "execute_result"
    }
   ],
   "source": [
    "# Read the first line of a text file\n",
    "\n",
    "f = open(\"random_text.txt\", \"r\")\n",
    "f.readline()"
   ]
  },
  {
   "cell_type": "code",
   "execution_count": 22,
   "metadata": {},
   "outputs": [
    {
     "data": {
      "text/plain": [
       "'Fruits are the means by which angiosperms disseminate seeds.\\nEdible fruits, in particular, have propagated with the movements of humans and animals in a symbiotic relationship as a means for seed dispersal and nutrition; in fact, humans and many animals have become dependent on fruits as a source of food.[1]\\nAccordingly, fruits account for a substantial fraction of the world\\'s agricultural output, and some (such as the apple and the pomegranate) have acquired extensive cultural and symbolic meanings.\\n\\n@\\n\\nIn common language usage, \"fruit\" normally means the fleshy seed-associated structures of a plant that are sweet or sour, and edible in the raw state, such as apples, bananas, grapes, lemons, oranges, and strawberries. On the other hand, in botanical usage, \"fruit\" includes many structures that are not commonly called \"fruits\", such as bean pods, corn kernels, tomatoes, and wheat grains.[2][3] The section of a fungus that produces spores is also called a fruiting body.[4]\\n\\n#cool\\n\\n@rmashton'"
      ]
     },
     "execution_count": 22,
     "metadata": {},
     "output_type": "execute_result"
    }
   ],
   "source": [
    "# Read in all text\n",
    "\n",
    "f = open(\"random_text.txt\", \"r\")\n",
    "f = f.read()\n",
    "f"
   ]
  },
  {
   "cell_type": "code",
   "execution_count": 23,
   "metadata": {},
   "outputs": [
    {
     "data": {
      "text/plain": [
       "'F'"
      ]
     },
     "execution_count": 23,
     "metadata": {},
     "output_type": "execute_result"
    }
   ],
   "source": [
    "f[0]"
   ]
  },
  {
   "cell_type": "code",
   "execution_count": 24,
   "metadata": {},
   "outputs": [
    {
     "data": {
      "text/plain": [
       "['FRUITS ARE THE MEANS BY WHICH ANGIOSPERMS DISSEMINATE SEEDS.\\n',\n",
       " 'EDIBLE FRUITS, IN PARTICULAR, HAVE PROPAGATED WITH THE MOVEMENTS OF HUMANS AND ANIMALS IN A SYMBIOTIC RELATIONSHIP AS A MEANS FOR SEED DISPERSAL AND NUTRITION; IN FACT, HUMANS AND MANY ANIMALS HAVE BECOME DEPENDENT ON FRUITS AS A SOURCE OF FOOD.[1]\\n',\n",
       " \"ACCORDINGLY, FRUITS ACCOUNT FOR A SUBSTANTIAL FRACTION OF THE WORLD'S AGRICULTURAL OUTPUT, AND SOME (SUCH AS THE APPLE AND THE POMEGRANATE) HAVE ACQUIRED EXTENSIVE CULTURAL AND SYMBOLIC MEANINGS.\\n\",\n",
       " '\\n',\n",
       " '@\\n',\n",
       " '\\n',\n",
       " 'IN COMMON LANGUAGE USAGE, \"FRUIT\" NORMALLY MEANS THE FLESHY SEED-ASSOCIATED STRUCTURES OF A PLANT THAT ARE SWEET OR SOUR, AND EDIBLE IN THE RAW STATE, SUCH AS APPLES, BANANAS, GRAPES, LEMONS, ORANGES, AND STRAWBERRIES. ON THE OTHER HAND, IN BOTANICAL USAGE, \"FRUIT\" INCLUDES MANY STRUCTURES THAT ARE NOT COMMONLY CALLED \"FRUITS\", SUCH AS BEAN PODS, CORN KERNELS, TOMATOES, AND WHEAT GRAINS.[2][3] THE SECTION OF A FUNGUS THAT PRODUCES SPORES IS ALSO CALLED A FRUITING BODY.[4]\\n',\n",
       " '\\n',\n",
       " '#COOL\\n',\n",
       " '\\n',\n",
       " '@RMASHTON']"
      ]
     },
     "execution_count": 24,
     "metadata": {},
     "output_type": "execute_result"
    }
   ],
   "source": [
    "f = open(\"random_text.txt\", \"r\")\n",
    "\n",
    "[line.upper() for line in f ]"
   ]
  },
  {
   "cell_type": "code",
   "execution_count": 25,
   "metadata": {},
   "outputs": [
    {
     "data": {
      "text/plain": [
       "[['Fruits',\n",
       "  'are',\n",
       "  'the',\n",
       "  'means',\n",
       "  'by',\n",
       "  'which',\n",
       "  'angiosperms',\n",
       "  'disseminate',\n",
       "  'seeds.'],\n",
       " ['Edible',\n",
       "  'fruits,',\n",
       "  'in',\n",
       "  'particular,',\n",
       "  'have',\n",
       "  'propagated',\n",
       "  'with',\n",
       "  'the',\n",
       "  'movements',\n",
       "  'of',\n",
       "  'humans',\n",
       "  'and',\n",
       "  'animals',\n",
       "  'in',\n",
       "  'a',\n",
       "  'symbiotic',\n",
       "  'relationship',\n",
       "  'as',\n",
       "  'a',\n",
       "  'means',\n",
       "  'for',\n",
       "  'seed',\n",
       "  'dispersal',\n",
       "  'and',\n",
       "  'nutrition;',\n",
       "  'in',\n",
       "  'fact,',\n",
       "  'humans',\n",
       "  'and',\n",
       "  'many',\n",
       "  'animals',\n",
       "  'have',\n",
       "  'become',\n",
       "  'dependent',\n",
       "  'on',\n",
       "  'fruits',\n",
       "  'as',\n",
       "  'a',\n",
       "  'source',\n",
       "  'of',\n",
       "  'food.[1]'],\n",
       " ['Accordingly,',\n",
       "  'fruits',\n",
       "  'account',\n",
       "  'for',\n",
       "  'a',\n",
       "  'substantial',\n",
       "  'fraction',\n",
       "  'of',\n",
       "  'the',\n",
       "  \"world's\",\n",
       "  'agricultural',\n",
       "  'output,',\n",
       "  'and',\n",
       "  'some',\n",
       "  '(such',\n",
       "  'as',\n",
       "  'the',\n",
       "  'apple',\n",
       "  'and',\n",
       "  'the',\n",
       "  'pomegranate)',\n",
       "  'have',\n",
       "  'acquired',\n",
       "  'extensive',\n",
       "  'cultural',\n",
       "  'and',\n",
       "  'symbolic',\n",
       "  'meanings.'],\n",
       " [],\n",
       " ['@'],\n",
       " [],\n",
       " ['In',\n",
       "  'common',\n",
       "  'language',\n",
       "  'usage,',\n",
       "  '\"fruit\"',\n",
       "  'normally',\n",
       "  'means',\n",
       "  'the',\n",
       "  'fleshy',\n",
       "  'seed-associated',\n",
       "  'structures',\n",
       "  'of',\n",
       "  'a',\n",
       "  'plant',\n",
       "  'that',\n",
       "  'are',\n",
       "  'sweet',\n",
       "  'or',\n",
       "  'sour,',\n",
       "  'and',\n",
       "  'edible',\n",
       "  'in',\n",
       "  'the',\n",
       "  'raw',\n",
       "  'state,',\n",
       "  'such',\n",
       "  'as',\n",
       "  'apples,',\n",
       "  'bananas,',\n",
       "  'grapes,',\n",
       "  'lemons,',\n",
       "  'oranges,',\n",
       "  'and',\n",
       "  'strawberries.',\n",
       "  'On',\n",
       "  'the',\n",
       "  'other',\n",
       "  'hand,',\n",
       "  'in',\n",
       "  'botanical',\n",
       "  'usage,',\n",
       "  '\"fruit\"',\n",
       "  'includes',\n",
       "  'many',\n",
       "  'structures',\n",
       "  'that',\n",
       "  'are',\n",
       "  'not',\n",
       "  'commonly',\n",
       "  'called',\n",
       "  '\"fruits\",',\n",
       "  'such',\n",
       "  'as',\n",
       "  'bean',\n",
       "  'pods,',\n",
       "  'corn',\n",
       "  'kernels,',\n",
       "  'tomatoes,',\n",
       "  'and',\n",
       "  'wheat',\n",
       "  'grains.[2][3]',\n",
       "  'The',\n",
       "  'section',\n",
       "  'of',\n",
       "  'a',\n",
       "  'fungus',\n",
       "  'that',\n",
       "  'produces',\n",
       "  'spores',\n",
       "  'is',\n",
       "  'also',\n",
       "  'called',\n",
       "  'a',\n",
       "  'fruiting',\n",
       "  'body.[4]'],\n",
       " [],\n",
       " ['#cool'],\n",
       " [],\n",
       " ['@rmashton']]"
      ]
     },
     "execution_count": 25,
     "metadata": {},
     "output_type": "execute_result"
    }
   ],
   "source": [
    "f = open(\"random_text.txt\", \"r\")\n",
    "\n",
    "f = [line.split() for line in f ]\n",
    "\n",
    "f"
   ]
  },
  {
   "cell_type": "code",
   "execution_count": 26,
   "metadata": {},
   "outputs": [
    {
     "data": {
      "text/plain": [
       "'Fruits'"
      ]
     },
     "execution_count": 26,
     "metadata": {},
     "output_type": "execute_result"
    }
   ],
   "source": [
    "f[0][0]"
   ]
  },
  {
   "cell_type": "code",
   "execution_count": 27,
   "metadata": {},
   "outputs": [
    {
     "data": {
      "text/html": [
       "<div>\n",
       "<style scoped>\n",
       "    .dataframe tbody tr th:only-of-type {\n",
       "        vertical-align: middle;\n",
       "    }\n",
       "\n",
       "    .dataframe tbody tr th {\n",
       "        vertical-align: top;\n",
       "    }\n",
       "\n",
       "    .dataframe thead th {\n",
       "        text-align: right;\n",
       "    }\n",
       "</style>\n",
       "<table border=\"1\" class=\"dataframe\">\n",
       "  <thead>\n",
       "    <tr style=\"text-align: right;\">\n",
       "      <th></th>\n",
       "      <th>Text</th>\n",
       "    </tr>\n",
       "  </thead>\n",
       "  <tbody>\n",
       "    <tr>\n",
       "      <th>0</th>\n",
       "      <td>Fruits are the means by which angiosperms diss...</td>\n",
       "    </tr>\n",
       "    <tr>\n",
       "      <th>1</th>\n",
       "      <td>\\nEdible fruits, in particular, have propagate...</td>\n",
       "    </tr>\n",
       "    <tr>\n",
       "      <th>2</th>\n",
       "      <td>[1]\\nAccordingly, fruits account for a substan...</td>\n",
       "    </tr>\n",
       "    <tr>\n",
       "      <th>3</th>\n",
       "      <td>\\n\\n@\\n\\nIn common language usage, \"fruit\" nor...</td>\n",
       "    </tr>\n",
       "    <tr>\n",
       "      <th>4</th>\n",
       "      <td>On the other hand, in botanical usage, \"fruit...</td>\n",
       "    </tr>\n",
       "    <tr>\n",
       "      <th>5</th>\n",
       "      <td>[2][3] The section of a fungus that produces s...</td>\n",
       "    </tr>\n",
       "    <tr>\n",
       "      <th>6</th>\n",
       "      <td>[4]\\n\\n#cool\\n\\n@rmashton</td>\n",
       "    </tr>\n",
       "  </tbody>\n",
       "</table>\n",
       "</div>"
      ],
      "text/plain": [
       "                                                Text\n",
       "0  Fruits are the means by which angiosperms diss...\n",
       "1  \\nEdible fruits, in particular, have propagate...\n",
       "2  [1]\\nAccordingly, fruits account for a substan...\n",
       "3  \\n\\n@\\n\\nIn common language usage, \"fruit\" nor...\n",
       "4   On the other hand, in botanical usage, \"fruit...\n",
       "5  [2][3] The section of a fungus that produces s...\n",
       "6                          [4]\\n\\n#cool\\n\\n@rmashton"
      ]
     },
     "execution_count": 27,
     "metadata": {},
     "output_type": "execute_result"
    }
   ],
   "source": [
    "import pandas as pd\n",
    "\n",
    "f = open(\"random_text.txt\", \"r\")\n",
    "\n",
    "lines = f.read().split('.')\n",
    "\n",
    "\n",
    "df = pd.DataFrame(lines, columns=[\"Text\"])\n",
    "df"
   ]
  },
  {
   "cell_type": "code",
   "execution_count": 28,
   "metadata": {},
   "outputs": [
    {
     "data": {
      "text/plain": [
       "0     59\n",
       "1    245\n",
       "2    198\n",
       "3    222\n",
       "4    171\n",
       "5     82\n",
       "6     21\n",
       "Name: Text, dtype: int64"
      ]
     },
     "execution_count": 28,
     "metadata": {},
     "output_type": "execute_result"
    }
   ],
   "source": [
    "# Length of string in each row\n",
    "\n",
    "df['Text'].str.len()"
   ]
  },
  {
   "cell_type": "code",
   "execution_count": 29,
   "metadata": {},
   "outputs": [
    {
     "data": {
      "text/plain": [
       "0     9\n",
       "1    41\n",
       "2    29\n",
       "3    35\n",
       "4    27\n",
       "5    15\n",
       "6     3\n",
       "Name: Text, dtype: int64"
      ]
     },
     "execution_count": 29,
     "metadata": {},
     "output_type": "execute_result"
    }
   ],
   "source": [
    "# Length of words for each row\n",
    "\n",
    "df['Text'].str.split().str.len()"
   ]
  },
  {
   "cell_type": "code",
   "execution_count": 30,
   "metadata": {},
   "outputs": [
    {
     "data": {
      "text/plain": [
       "0    False\n",
       "1     True\n",
       "2     True\n",
       "3     True\n",
       "4     True\n",
       "5     True\n",
       "6    False\n",
       "Name: Text, dtype: bool"
      ]
     },
     "execution_count": 30,
     "metadata": {},
     "output_type": "execute_result"
    }
   ],
   "source": [
    "df['Text'].str.contains(\"fruit\")"
   ]
  },
  {
   "cell_type": "code",
   "execution_count": 31,
   "metadata": {},
   "outputs": [
    {
     "data": {
      "text/plain": [
       "0    0\n",
       "1    1\n",
       "2    1\n",
       "3    4\n",
       "4    0\n",
       "5    0\n",
       "6    4\n",
       "Name: Text, dtype: int64"
      ]
     },
     "execution_count": 31,
     "metadata": {},
     "output_type": "execute_result"
    }
   ],
   "source": [
    "# Find the count of certain strings\n",
    "\n",
    "df['Text'].str.count(r'\\n')"
   ]
  },
  {
   "cell_type": "code",
   "execution_count": 32,
   "metadata": {},
   "outputs": [
    {
     "data": {
      "text/plain": [
       "0                  []\n",
       "1                [\\n]\n",
       "2                [\\n]\n",
       "3    [\\n, \\n, \\n, \\n]\n",
       "4                  []\n",
       "5                  []\n",
       "6    [\\n, \\n, \\n, \\n]\n",
       "Name: Text, dtype: object"
      ]
     },
     "execution_count": 32,
     "metadata": {},
     "output_type": "execute_result"
    }
   ],
   "source": [
    "# the occurances of these string matches\n",
    "\n",
    "df['Text'].str.findall(r'\\n')"
   ]
  },
  {
   "cell_type": "code",
   "execution_count": 33,
   "metadata": {},
   "outputs": [
    {
     "data": {
      "text/plain": [
       "0    0\n",
       "1    0\n",
       "2    1\n",
       "3    0\n",
       "4    0\n",
       "5    2\n",
       "6    1\n",
       "Name: Text, dtype: int64"
      ]
     },
     "execution_count": 33,
     "metadata": {},
     "output_type": "execute_result"
    }
   ],
   "source": [
    "# Find the count of digits\n",
    "\n",
    "df['Text'].str.count(r'\\d')"
   ]
  },
  {
   "cell_type": "code",
   "execution_count": 34,
   "metadata": {},
   "outputs": [
    {
     "data": {
      "text/plain": [
       "0        []\n",
       "1        []\n",
       "2       [1]\n",
       "3        []\n",
       "4        []\n",
       "5    [2, 3]\n",
       "6       [4]\n",
       "Name: Text, dtype: object"
      ]
     },
     "execution_count": 34,
     "metadata": {},
     "output_type": "execute_result"
    }
   ],
   "source": [
    "# the occurances of these digits\n",
    "\n",
    "df['Text'].str.findall(r'\\d')"
   ]
  },
  {
   "cell_type": "code",
   "execution_count": 35,
   "metadata": {},
   "outputs": [
    {
     "data": {
      "text/html": [
       "<div>\n",
       "<style scoped>\n",
       "    .dataframe tbody tr th:only-of-type {\n",
       "        vertical-align: middle;\n",
       "    }\n",
       "\n",
       "    .dataframe tbody tr th {\n",
       "        vertical-align: top;\n",
       "    }\n",
       "\n",
       "    .dataframe thead th {\n",
       "        text-align: right;\n",
       "    }\n",
       "</style>\n",
       "<table border=\"1\" class=\"dataframe\">\n",
       "  <thead>\n",
       "    <tr style=\"text-align: right;\">\n",
       "      <th></th>\n",
       "      <th>Text</th>\n",
       "      <th>new_column</th>\n",
       "    </tr>\n",
       "  </thead>\n",
       "  <tbody>\n",
       "    <tr>\n",
       "      <th>0</th>\n",
       "      <td>Fruits are the means by which angiosperms diss...</td>\n",
       "      <td>False</td>\n",
       "    </tr>\n",
       "    <tr>\n",
       "      <th>1</th>\n",
       "      <td>\\nEdible fruits, in particular, have propagate...</td>\n",
       "      <td>True</td>\n",
       "    </tr>\n",
       "    <tr>\n",
       "      <th>2</th>\n",
       "      <td>[1]\\nAccordingly, fruits account for a substan...</td>\n",
       "      <td>True</td>\n",
       "    </tr>\n",
       "    <tr>\n",
       "      <th>3</th>\n",
       "      <td>\\n\\n@\\n\\nIn common language usage, \"fruit\" nor...</td>\n",
       "      <td>True</td>\n",
       "    </tr>\n",
       "    <tr>\n",
       "      <th>4</th>\n",
       "      <td>On the other hand, in botanical usage, \"fruit...</td>\n",
       "      <td>True</td>\n",
       "    </tr>\n",
       "    <tr>\n",
       "      <th>5</th>\n",
       "      <td>[2][3] The section of a fungus that produces s...</td>\n",
       "      <td>True</td>\n",
       "    </tr>\n",
       "    <tr>\n",
       "      <th>6</th>\n",
       "      <td>[4]\\n\\n#cool\\n\\n@rmashton</td>\n",
       "      <td>False</td>\n",
       "    </tr>\n",
       "  </tbody>\n",
       "</table>\n",
       "</div>"
      ],
      "text/plain": [
       "                                                Text  new_column\n",
       "0  Fruits are the means by which angiosperms diss...       False\n",
       "1  \\nEdible fruits, in particular, have propagate...        True\n",
       "2  [1]\\nAccordingly, fruits account for a substan...        True\n",
       "3  \\n\\n@\\n\\nIn common language usage, \"fruit\" nor...        True\n",
       "4   On the other hand, in botanical usage, \"fruit...        True\n",
       "5  [2][3] The section of a fungus that produces s...        True\n",
       "6                          [4]\\n\\n#cool\\n\\n@rmashton       False"
      ]
     },
     "execution_count": 35,
     "metadata": {},
     "output_type": "execute_result"
    }
   ],
   "source": [
    "df[\"new_column\"] = df[\"Text\"].str.contains(\"fruit\")\n",
    "\n",
    "df"
   ]
  },
  {
   "cell_type": "code",
   "execution_count": 36,
   "metadata": {},
   "outputs": [
    {
     "data": {
      "text/plain": [
       "'Fruits are the means by which angiosperms disseminate seeds.\\nEdible fruits, in particular, have propagated with the movements of humans and animals in a symbiotic relationship as a means for seed dispersal and nutrition; in fact, humans and many animals have become dependent on fruits as a source of food.[1]\\nAccordingly, fruits account for a substantial fraction of the world\\'s agricultural output, and some (such as the apple and the pomegranate) have acquired extensive cultural and symbolic meanings.\\n\\n@\\n\\nIn common language usage, \"fruit\" normally means the fleshy seed-associated structures of a plant that are sweet or sour, and edible in the raw state, such as apples, bananas, grapes, lemons, oranges, and strawberries. On the other hand, in botanical usage, \"fruit\" includes many structures that are not commonly called \"fruits\", such as bean pods, corn kernels, tomatoes, and wheat grains.[2][3] The section of a fungus that produces spores is also called a fruiting body.[4]\\n\\n#cool\\n\\n@rmashton'"
      ]
     },
     "execution_count": 36,
     "metadata": {},
     "output_type": "execute_result"
    }
   ],
   "source": [
    "# Read in all text and remove the /n\n",
    "\n",
    "f = open(\"random_text.txt\", \"r\")\n",
    "f = f.read()\n",
    "f = f.rstrip()\n",
    "f"
   ]
  },
  {
   "cell_type": "markdown",
   "metadata": {},
   "source": [
    "## Regular Expressions"
   ]
  },
  {
   "cell_type": "code",
   "execution_count": 37,
   "metadata": {},
   "outputs": [
    {
     "data": {
      "text/plain": [
       "['#cool\\n']"
      ]
     },
     "execution_count": 37,
     "metadata": {},
     "output_type": "execute_result"
    }
   ],
   "source": [
    "# Read in all text and find \"starts with hastag\"\n",
    "\n",
    "f = open(\"random_text.txt\", \"r\")\n",
    "[word for word in f if word.startswith('#')]"
   ]
  },
  {
   "cell_type": "code",
   "execution_count": 38,
   "metadata": {},
   "outputs": [
    {
     "data": {
      "text/plain": [
       "['@\\n', '@rmashton']"
      ]
     },
     "execution_count": 38,
     "metadata": {},
     "output_type": "execute_result"
    }
   ],
   "source": [
    "# Read in all text and find \"@\"\n",
    "\n",
    "f = open(\"random_text.txt\", \"r\")\n",
    "[word for word in f if word.startswith('@')]"
   ]
  },
  {
   "cell_type": "markdown",
   "metadata": {},
   "source": [
    "- re.search() function will search the regular expression pattern and return the first occurrence. Unlike Python re.match(), it will check all lines of the input string. The Python re.search() function returns a match object when the pattern is found and “null” if the pattern is not found\n",
    "\n",
    "- findall() module is used to search for “all” occurrences that match a given pattern. In contrast, search() module will only return the first occurrence that matches the specified pattern. findall() will iterate over all the lines of the file and will return all non-overlapping matches of pattern in a single step.\n",
    "\n",
    "- re.match() function of re in Python will search the regular expression pattern and return the first occurrence. The Python RegEx Match method checks for a match only at the beginning of the string. So, if a match is found in the first line, it returns the match object. But if a match is found in some other line, the Python RegEx Match function returns null."
   ]
  },
  {
   "cell_type": "code",
   "execution_count": 39,
   "metadata": {},
   "outputs": [
    {
     "data": {
      "text/plain": [
       "['@rmashton']"
      ]
     },
     "execution_count": 39,
     "metadata": {},
     "output_type": "execute_result"
    }
   ],
   "source": [
    "# Use regular expression to be more specific with the find - has to include something after the @\n",
    "\n",
    "import re\n",
    "\n",
    "f = open(\"random_text.txt\", \"r\")\n",
    "[word for word in f if re.search(r'@[A-Za-z0-9]+', word)]"
   ]
  },
  {
   "cell_type": "code",
   "execution_count": 40,
   "metadata": {},
   "outputs": [
    {
     "data": {
      "text/plain": [
       "['@rmashton']"
      ]
     },
     "execution_count": 40,
     "metadata": {},
     "output_type": "execute_result"
    }
   ],
   "source": [
    "# Use regular expression to be more specific with the find - has to include something after the @\n",
    "\n",
    "import re\n",
    "\n",
    "f = open(\"random_text.txt\", \"r\")\n",
    "[word for word in f if re.findall(r'@[A-Za-z0-9]+', word)]"
   ]
  },
  {
   "cell_type": "code",
   "execution_count": 41,
   "metadata": {},
   "outputs": [
    {
     "data": {
      "text/plain": [
       "['@rmashton']"
      ]
     },
     "execution_count": 41,
     "metadata": {},
     "output_type": "execute_result"
    }
   ],
   "source": [
    "# Use regular expression to be more specific with the find - has to include something after the @\n",
    "\n",
    "import re\n",
    "\n",
    "f = open(\"random_text.txt\", \"r\")\n",
    "[word for word in f if re.match(r'@[A-Za-z0-9]+', word)]"
   ]
  }
 ],
 "metadata": {
  "kernelspec": {
   "display_name": "Python 3",
   "language": "python",
   "name": "python3"
  },
  "language_info": {
   "codemirror_mode": {
    "name": "ipython",
    "version": 3
   },
   "file_extension": ".py",
   "mimetype": "text/x-python",
   "name": "python",
   "nbconvert_exporter": "python",
   "pygments_lexer": "ipython3",
   "version": "3.6.5"
  }
 },
 "nbformat": 4,
 "nbformat_minor": 2
}
